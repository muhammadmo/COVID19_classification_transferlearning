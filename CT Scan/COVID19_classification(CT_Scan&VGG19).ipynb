{
  "nbformat": 4,
  "nbformat_minor": 0,
  "metadata": {
    "colab": {
      "provenance": [],
      "authorship_tag": "ABX9TyO+1iAtiSpy5gRntNA4C3AN",
      "include_colab_link": true
    },
    "kernelspec": {
      "name": "python3",
      "display_name": "Python 3"
    },
    "language_info": {
      "name": "python"
    },
    "accelerator": "GPU"
  },
  "cells": [
    {
      "cell_type": "markdown",
      "metadata": {
        "id": "view-in-github",
        "colab_type": "text"
      },
      "source": [
        "<a href=\"https://colab.research.google.com/github/muhammadmo/COVID19_classification_transferlearning/blob/main/CT%20Scan/COVID19_classification(CT_Scan%26VGG19).ipynb\" target=\"_parent\"><img src=\"https://colab.research.google.com/assets/colab-badge.svg\" alt=\"Open In Colab\"/></a>"
      ]
    },
    {
      "cell_type": "code",
      "execution_count": null,
      "metadata": {
        "colab": {
          "base_uri": "https://localhost:8080/"
        },
        "id": "BOmWOLGF4IM5",
        "outputId": "c198efcc-53ba-45c8-c0fe-8b40fbad905b"
      },
      "outputs": [
        {
          "output_type": "stream",
          "name": "stdout",
          "text": [
            "Requirement already satisfied: kaggle in /usr/local/lib/python3.7/dist-packages (1.5.12)\n",
            "Requirement already satisfied: six>=1.10 in /usr/local/lib/python3.7/dist-packages (from kaggle) (1.15.0)\n",
            "Requirement already satisfied: python-dateutil in /usr/local/lib/python3.7/dist-packages (from kaggle) (2.8.2)\n",
            "Requirement already satisfied: python-slugify in /usr/local/lib/python3.7/dist-packages (from kaggle) (6.1.1)\n",
            "Requirement already satisfied: certifi in /usr/local/lib/python3.7/dist-packages (from kaggle) (2021.10.8)\n",
            "Requirement already satisfied: tqdm in /usr/local/lib/python3.7/dist-packages (from kaggle) (4.63.0)\n",
            "Requirement already satisfied: requests in /usr/local/lib/python3.7/dist-packages (from kaggle) (2.23.0)\n",
            "Requirement already satisfied: urllib3 in /usr/local/lib/python3.7/dist-packages (from kaggle) (1.24.3)\n",
            "Requirement already satisfied: text-unidecode>=1.3 in /usr/local/lib/python3.7/dist-packages (from python-slugify->kaggle) (1.3)\n",
            "Requirement already satisfied: chardet<4,>=3.0.2 in /usr/local/lib/python3.7/dist-packages (from requests->kaggle) (3.0.4)\n",
            "Requirement already satisfied: idna<3,>=2.5 in /usr/local/lib/python3.7/dist-packages (from requests->kaggle) (2.10)\n"
          ]
        }
      ],
      "source": [
        "!pip install kaggle"
      ]
    },
    {
      "cell_type": "code",
      "source": [
        "from google.colab import files\n",
        "files.upload()"
      ],
      "metadata": {
        "colab": {
          "resources": {
            "http://localhost:8080/nbextensions/google.colab/files.js": {
              "data": "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",
              "ok": true,
              "headers": [
                [
                  "content-type",
                  "application/javascript"
                ]
              ],
              "status": 200,
              "status_text": ""
            }
          },
          "base_uri": "https://localhost:8080/",
          "height": 90
        },
        "id": "tJ0u22K94b1M",
        "outputId": "4e382d72-768a-4ca8-f23e-11891c88970e"
      },
      "execution_count": null,
      "outputs": [
        {
          "output_type": "display_data",
          "data": {
            "text/plain": [
              "<IPython.core.display.HTML object>"
            ],
            "text/html": [
              "\n",
              "     <input type=\"file\" id=\"files-157724cc-ae68-4c8f-a76b-4e40b606717d\" name=\"files[]\" multiple disabled\n",
              "        style=\"border:none\" />\n",
              "     <output id=\"result-157724cc-ae68-4c8f-a76b-4e40b606717d\">\n",
              "      Upload widget is only available when the cell has been executed in the\n",
              "      current browser session. Please rerun this cell to enable.\n",
              "      </output>\n",
              "      <script src=\"/nbextensions/google.colab/files.js\"></script> "
            ]
          },
          "metadata": {}
        },
        {
          "output_type": "stream",
          "name": "stdout",
          "text": [
            "Saving kaggle.json to kaggle.json\n"
          ]
        },
        {
          "output_type": "execute_result",
          "data": {
            "text/plain": [
              "{'kaggle.json': b'{\"username\":\"muhammadmoosavi\",\"key\":\"1fa1bc8aae4bfd517b860f44615ff8d9\"}'}"
            ]
          },
          "metadata": {},
          "execution_count": 2
        }
      ]
    },
    {
      "cell_type": "code",
      "source": [
        "!mkdir -p ~/.kaggle\n",
        "!cp kaggle.json ~/.kaggle/\n",
        "!chmod 600 ~/.kaggle/kaggle.json"
      ],
      "metadata": {
        "id": "kXmCyPYW4g7M"
      },
      "execution_count": null,
      "outputs": []
    },
    {
      "cell_type": "code",
      "source": [
        "!kaggle datasets download -d maedemaftouni/large-covid19-ct-slice-dataset"
      ],
      "metadata": {
        "colab": {
          "base_uri": "https://localhost:8080/"
        },
        "id": "0_jI4yDW4inw",
        "outputId": "9bfdd69f-863c-420b-c693-61518b99b3ab"
      },
      "execution_count": null,
      "outputs": [
        {
          "output_type": "stream",
          "name": "stdout",
          "text": [
            "Downloading large-covid19-ct-slice-dataset.zip to /content\n",
            " 99% 2.05G/2.06G [00:46<00:00, 85.0MB/s]\n",
            "100% 2.06G/2.06G [00:46<00:00, 47.9MB/s]\n"
          ]
        }
      ]
    },
    {
      "cell_type": "code",
      "source": [
        "!kaggle datasets download -d drsurabhithorat/covid-19-ct-scan-dataset"
      ],
      "metadata": {
        "colab": {
          "base_uri": "https://localhost:8080/"
        },
        "id": "BvIrrdt54nCw",
        "outputId": "694ade0e-f4dd-42ad-a5b3-a1cd82b14132"
      },
      "execution_count": null,
      "outputs": [
        {
          "output_type": "stream",
          "name": "stdout",
          "text": [
            "Downloading covid-19-ct-scan-dataset.zip to /content\n",
            "100% 1.04G/1.04G [00:26<00:00, 46.2MB/s]\n",
            "100% 1.04G/1.04G [00:26<00:00, 41.6MB/s]\n"
          ]
        }
      ]
    },
    {
      "cell_type": "code",
      "source": [
        "from zipfile import ZipFile\n",
        "file_name = \"large-covid19-ct-slice-dataset.zip\"\n",
        "\n",
        "with ZipFile(file_name,'r') as zipp:\n",
        "  zipp.extractall()\n",
        "print('done') "
      ],
      "metadata": {
        "colab": {
          "base_uri": "https://localhost:8080/"
        },
        "id": "jYx6nSQ-4vFG",
        "outputId": "98048bba-c291-495c-c215-d4a5d82cf4c1"
      },
      "execution_count": null,
      "outputs": [
        {
          "output_type": "stream",
          "name": "stdout",
          "text": [
            "done\n"
          ]
        }
      ]
    },
    {
      "cell_type": "code",
      "source": [
        "from zipfile import ZipFile\n",
        "file_name = \"covid-19-ct-scan-dataset.zip\"\n",
        "\n",
        "with ZipFile(file_name,'r') as zipp:\n",
        "  zipp.extractall()\n",
        "print('done') "
      ],
      "metadata": {
        "colab": {
          "base_uri": "https://localhost:8080/"
        },
        "id": "pHaoZx5y4xSO",
        "outputId": "910c0ab9-3d3d-4501-ef92-71523b69189c"
      },
      "execution_count": null,
      "outputs": [
        {
          "output_type": "stream",
          "name": "stdout",
          "text": [
            "done\n"
          ]
        }
      ]
    },
    {
      "cell_type": "code",
      "source": [
        "!mv /content/pneumonia_CT/*.jpg /content/curated_data/curated_data/3CAP"
      ],
      "metadata": {
        "id": "6GZY-sTg4zrp"
      },
      "execution_count": null,
      "outputs": []
    },
    {
      "cell_type": "code",
      "source": [
        "pip install split_folders"
      ],
      "metadata": {
        "colab": {
          "base_uri": "https://localhost:8080/"
        },
        "id": "r2Q_GwkG4_9m",
        "outputId": "17a78e65-18ee-480e-eee5-8c047d687db8"
      },
      "execution_count": null,
      "outputs": [
        {
          "output_type": "stream",
          "name": "stdout",
          "text": [
            "Collecting split_folders\n",
            "  Downloading split_folders-0.5.1-py3-none-any.whl (8.4 kB)\n",
            "Installing collected packages: split-folders\n",
            "Successfully installed split-folders-0.5.1\n"
          ]
        }
      ]
    },
    {
      "cell_type": "code",
      "source": [
        "import splitfolders\n",
        "input_folder = \"/content/dataset\"\n",
        "output = \"/content/splited_dataset\"\n",
        "\n",
        "splitfolders.ratio(input_folder, output=output, seed=42, ratio=(.7, .1, .2)) "
      ],
      "metadata": {
        "colab": {
          "base_uri": "https://localhost:8080/"
        },
        "id": "3f4tKSr05FqI",
        "outputId": "69183507-a8e2-4ffc-b371-a1a23c39aecf"
      },
      "execution_count": null,
      "outputs": [
        {
          "output_type": "stream",
          "name": "stderr",
          "text": [
            "Copying files: 10239 files [00:05, 1907.02 files/s]\n"
          ]
        }
      ]
    },
    {
      "cell_type": "code",
      "source": [
        "import matplotlib.pyplot as plt \n",
        "import numpy as np             \n",
        "import pandas as pd           \n",
        "\n",
        "train_path = '/content/splited_dataset/train'\n",
        "test_path = '/content/splited_dataset/test'\n",
        "valid_path = '/content/splited_dataset/val'\n",
        "\n",
        "#set defult image size\n",
        "batch_size = 16\n",
        "img_width = 224\n",
        "img_height = 224"
      ],
      "metadata": {
        "id": "arAln0iH5Hl0"
      },
      "execution_count": null,
      "outputs": []
    },
    {
      "cell_type": "code",
      "source": [
        "from tensorflow.keras.preprocessing.image import ImageDataGenerator\n",
        "# Create Image Data Generator for Train Set\n",
        "image_gen = ImageDataGenerator(\n",
        "                                rotation_range=15,\n",
        "                                width_shift_range=0.05,\n",
        "                                height_shift_range=0.05,\n",
        "                                rescale = 1./255,\n",
        "                                shear_range = 0.2,\n",
        "                                zoom_range = 0.2,\n",
        "                                horizontal_flip = True,\n",
        "                               )\n",
        "# Create Image Data Generator for Test/Validation Set\n",
        "test_data_gen = ImageDataGenerator(rescale = 1./255)"
      ],
      "metadata": {
        "id": "_2y67A255Jto"
      },
      "execution_count": null,
      "outputs": []
    },
    {
      "cell_type": "code",
      "source": [
        "train = image_gen.flow_from_directory(\n",
        "      train_path,\n",
        "      target_size=(img_height, img_width),\n",
        "      color_mode='rgb',\n",
        "      class_mode='sparse',\n",
        "      batch_size=batch_size\n",
        "      )\n",
        "test = test_data_gen.flow_from_directory(\n",
        "      test_path,\n",
        "      target_size=(img_height, img_width),\n",
        "      color_mode='rgb',\n",
        "      shuffle=False, \n",
        "#setting shuffle as False just so we can later compare it with predicted values without having indexing problem \n",
        "      class_mode='sparse',\n",
        "      batch_size=batch_size\n",
        "      )\n",
        "valid = test_data_gen.flow_from_directory(\n",
        "      valid_path,\n",
        "      target_size=(img_height, img_width),\n",
        "      color_mode='rgb',\n",
        "      class_mode='sparse', \n",
        "      batch_size=batch_size\n",
        "      )\n"
      ],
      "metadata": {
        "colab": {
          "base_uri": "https://localhost:8080/"
        },
        "id": "SXLHnPZQ5LgU",
        "outputId": "9aeacb1e-764c-4445-bfa3-f4c5c2e61748"
      },
      "execution_count": null,
      "outputs": [
        {
          "output_type": "stream",
          "name": "stdout",
          "text": [
            "Found 7165 images belonging to 3 classes.\n",
            "Found 2051 images belonging to 3 classes.\n",
            "Found 1022 images belonging to 3 classes.\n"
          ]
        }
      ]
    },
    {
      "cell_type": "code",
      "source": [
        "from tensorflow.keras.applications import VGG19\n",
        "\n",
        "conv_base = VGG19(weights='imagenet', include_top=False, input_shape=(224, 224, 3))"
      ],
      "metadata": {
        "colab": {
          "base_uri": "https://localhost:8080/"
        },
        "id": "2Fh02A0v5Zi8",
        "outputId": "42a2a8d5-4359-4db6-e641-79d0ccad1ffd"
      },
      "execution_count": null,
      "outputs": [
        {
          "output_type": "stream",
          "name": "stdout",
          "text": [
            "Downloading data from https://storage.googleapis.com/tensorflow/keras-applications/vgg19/vgg19_weights_tf_dim_ordering_tf_kernels_notop.h5\n",
            "80142336/80134624 [==============================] - 2s 0us/step\n",
            "80150528/80134624 [==============================] - 2s 0us/step\n"
          ]
        }
      ]
    },
    {
      "cell_type": "code",
      "source": [
        "from keras import models\n",
        "from keras import layers\n",
        "from tensorflow import keras\n",
        "from tensorflow.keras.layers import Dense,Conv2D,Flatten,MaxPooling2D, GlobalAveragePooling2D, BatchNormalization\n",
        "from tensorflow.keras.optimizers import RMSprop\n",
        "\n",
        "optimizer = keras.optimizers.Adam(lr=0.003, beta_1=0.9, beta_2=0.999, epsilon=0.1, decay=0.0)\n",
        "\n",
        "model = models.Sequential()\n",
        "\n",
        "model.add(Conv2D(3, (3, 3), padding=\"same\", activation=\"relu\", input_shape=(img_width, img_height, 1)))\n",
        "\n",
        "model.add(conv_base)\n",
        "\n",
        "model.add(GlobalAveragePooling2D())\n",
        "\n",
        "model.add(layers.Flatten())\n",
        "#model.add(layers.Dense(1024, activation='relu'))\n",
        "model.add(layers.Dropout(0.3))\n",
        "model.add(layers.Dense(1024, activation='relu'))\n",
        "model.add(layers.Dense(1024, activation='relu'))\n",
        "#model.add(layers.BatchNormalization())\n",
        "model.add(layers.Dropout(0.3))\n",
        "#model.add(layers.BatchNormalization())\n",
        "\n",
        "#model.add(layers.Dense(4096, activation='relu'))\n",
        "#model.add(Dense(activation = 'relu', units = 64))\n",
        "model.add(Dense(3,activation=\"softmax\"))\n",
        "model.compile(optimizer = optimizer, loss = 'sparse_categorical_crossentropy', metrics = ['accuracy'])\n",
        "#model.compile(optimizer = RMSprop(lr=1e-2) , loss = 'sparse_categorical_crossentropy', metrics = ['accuracy'])\n",
        "\n",
        "conv_base.trainable = False\n",
        "#fine-tuning\n",
        "'''\n",
        "conv_base.trainable = True\n",
        "\n",
        "set_trainable = False\n",
        "for layer in conv_base.layers:\n",
        "  if layer.name == 'block5_conv1':\n",
        "    set_trainable = True\n",
        "  if set_trainable:\n",
        "    layer.trainable = True\n",
        "  else:\n",
        "    layer.trainable = False\n",
        "'''\n",
        "model.summary()"
      ],
      "metadata": {
        "colab": {
          "base_uri": "https://localhost:8080/"
        },
        "id": "fvu2mboO5es1",
        "outputId": "ae0d349b-775f-4fde-bede-384fddc231e9"
      },
      "execution_count": null,
      "outputs": [
        {
          "output_type": "stream",
          "name": "stdout",
          "text": [
            "Model: \"sequential\"\n",
            "_________________________________________________________________\n",
            " Layer (type)                Output Shape              Param #   \n",
            "=================================================================\n",
            " conv2d (Conv2D)             (None, 224, 224, 3)       30        \n",
            "                                                                 \n",
            " vgg19 (Functional)          (None, 7, 7, 512)         20024384  \n",
            "                                                                 \n",
            " global_average_pooling2d (G  (None, 512)              0         \n",
            " lobalAveragePooling2D)                                          \n",
            "                                                                 \n",
            " flatten (Flatten)           (None, 512)               0         \n",
            "                                                                 \n",
            " dropout (Dropout)           (None, 512)               0         \n",
            "                                                                 \n"
          ]
        },
        {
          "output_type": "stream",
          "name": "stderr",
          "text": [
            "/usr/local/lib/python3.7/dist-packages/keras/optimizer_v2/adam.py:105: UserWarning: The `lr` argument is deprecated, use `learning_rate` instead.\n",
            "  super(Adam, self).__init__(name, **kwargs)\n"
          ]
        },
        {
          "output_type": "stream",
          "name": "stdout",
          "text": [
            " dense (Dense)               (None, 1024)              525312    \n",
            "                                                                 \n",
            " dense_1 (Dense)             (None, 1024)              1049600   \n",
            "                                                                 \n",
            " dropout_1 (Dropout)         (None, 1024)              0         \n",
            "                                                                 \n",
            " dense_2 (Dense)             (None, 3)                 3075      \n",
            "                                                                 \n",
            "=================================================================\n",
            "Total params: 21,602,401\n",
            "Trainable params: 1,578,017\n",
            "Non-trainable params: 20,024,384\n",
            "_________________________________________________________________\n"
          ]
        }
      ]
    },
    {
      "cell_type": "code",
      "source": [
        "from tensorflow import keras\n",
        "from tensorflow.keras.callbacks import EarlyStopping,ReduceLROnPlateau\n",
        "\n",
        "#early stopping\n",
        "early = EarlyStopping(monitor=\"val_loss\", \n",
        "                      mode=\"auto\", \n",
        "                      patience=9)\n",
        "\n",
        "learning_rate_reduction = ReduceLROnPlateau(monitor='val_loss', patience = 4, verbose=1,factor=1e-1, min_lr=0.000001)\n",
        "\n",
        "checkpoint_filepath = 'checkpointCNN.h5'\n",
        "Model_check = keras.callbacks.ModelCheckpoint(\n",
        "    checkpoint_filepath, monitor='val_loss', verbose=1, save_best_only=True, mode='auto')\n",
        "\n",
        "callbacks_list = [ early, learning_rate_reduction]"
      ],
      "metadata": {
        "id": "5gOYnrWb5upn"
      },
      "execution_count": null,
      "outputs": []
    },
    {
      "cell_type": "code",
      "source": [
        "history = model.fit(train,\n",
        "                    batch_size=16,\n",
        "                    epochs=30,\n",
        "                    validation_data=valid,\n",
        "                    callbacks=[early,learning_rate_reduction, Model_check])"
      ],
      "metadata": {
        "colab": {
          "base_uri": "https://localhost:8080/"
        },
        "id": "xep5Sy1i51OH",
        "outputId": "b6504a93-6145-4572-c5ee-1648c5f392d0"
      },
      "execution_count": null,
      "outputs": [
        {
          "output_type": "stream",
          "name": "stdout",
          "text": [
            "Epoch 1/30\n",
            "448/448 [==============================] - ETA: 0s - loss: 0.6543 - accuracy: 0.6780\n",
            "Epoch 1: val_loss improved from inf to 0.22235, saving model to checkpointCNN.h5\n",
            "448/448 [==============================] - 280s 592ms/step - loss: 0.6543 - accuracy: 0.6780 - val_loss: 0.2223 - val_accuracy: 0.9110 - lr: 0.0010\n",
            "Epoch 2/30\n",
            "448/448 [==============================] - ETA: 0s - loss: 0.2699 - accuracy: 0.8761\n",
            "Epoch 2: val_loss improved from 0.22235 to 0.15307, saving model to checkpointCNN.h5\n",
            "448/448 [==============================] - 260s 579ms/step - loss: 0.2699 - accuracy: 0.8761 - val_loss: 0.1531 - val_accuracy: 0.9413 - lr: 0.0010\n",
            "Epoch 3/30\n",
            "448/448 [==============================] - ETA: 0s - loss: 0.2176 - accuracy: 0.9059\n",
            "Epoch 3: val_loss improved from 0.15307 to 0.14923, saving model to checkpointCNN.h5\n",
            "448/448 [==============================] - 257s 574ms/step - loss: 0.2176 - accuracy: 0.9059 - val_loss: 0.1492 - val_accuracy: 0.9335 - lr: 0.0010\n",
            "Epoch 4/30\n",
            "448/448 [==============================] - ETA: 0s - loss: 0.1978 - accuracy: 0.9129\n",
            "Epoch 4: val_loss did not improve from 0.14923\n",
            "448/448 [==============================] - 257s 572ms/step - loss: 0.1978 - accuracy: 0.9129 - val_loss: 0.1520 - val_accuracy: 0.9295 - lr: 0.0010\n",
            "Epoch 5/30\n",
            "448/448 [==============================] - ETA: 0s - loss: 0.1570 - accuracy: 0.9338\n",
            "Epoch 5: val_loss improved from 0.14923 to 0.11745, saving model to checkpointCNN.h5\n",
            "448/448 [==============================] - 258s 576ms/step - loss: 0.1570 - accuracy: 0.9338 - val_loss: 0.1175 - val_accuracy: 0.9462 - lr: 0.0010\n",
            "Epoch 6/30\n",
            "448/448 [==============================] - ETA: 0s - loss: 0.1453 - accuracy: 0.9366\n",
            "Epoch 6: val_loss did not improve from 0.11745\n",
            "448/448 [==============================] - 257s 573ms/step - loss: 0.1453 - accuracy: 0.9366 - val_loss: 0.1533 - val_accuracy: 0.9335 - lr: 0.0010\n",
            "Epoch 7/30\n",
            "448/448 [==============================] - ETA: 0s - loss: 0.1400 - accuracy: 0.9407\n",
            "Epoch 7: val_loss did not improve from 0.11745\n",
            "448/448 [==============================] - 256s 571ms/step - loss: 0.1400 - accuracy: 0.9407 - val_loss: 0.1369 - val_accuracy: 0.9413 - lr: 0.0010\n",
            "Epoch 8/30\n",
            "448/448 [==============================] - ETA: 0s - loss: 0.1382 - accuracy: 0.9408\n",
            "Epoch 8: val_loss did not improve from 0.11745\n",
            "448/448 [==============================] - 256s 571ms/step - loss: 0.1382 - accuracy: 0.9408 - val_loss: 0.1247 - val_accuracy: 0.9472 - lr: 0.0010\n",
            "Epoch 9/30\n",
            "448/448 [==============================] - ETA: 0s - loss: 0.1426 - accuracy: 0.9415\n",
            "Epoch 9: val_loss improved from 0.11745 to 0.11160, saving model to checkpointCNN.h5\n",
            "448/448 [==============================] - 257s 573ms/step - loss: 0.1426 - accuracy: 0.9415 - val_loss: 0.1116 - val_accuracy: 0.9560 - lr: 0.0010\n",
            "Epoch 10/30\n",
            "448/448 [==============================] - ETA: 0s - loss: 0.1242 - accuracy: 0.9498\n",
            "Epoch 10: val_loss improved from 0.11160 to 0.10711, saving model to checkpointCNN.h5\n",
            "448/448 [==============================] - 257s 573ms/step - loss: 0.1242 - accuracy: 0.9498 - val_loss: 0.1071 - val_accuracy: 0.9569 - lr: 0.0010\n",
            "Epoch 11/30\n",
            "448/448 [==============================] - ETA: 0s - loss: 0.1103 - accuracy: 0.9563\n",
            "Epoch 11: val_loss improved from 0.10711 to 0.08577, saving model to checkpointCNN.h5\n",
            "448/448 [==============================] - 257s 573ms/step - loss: 0.1103 - accuracy: 0.9563 - val_loss: 0.0858 - val_accuracy: 0.9667 - lr: 0.0010\n",
            "Epoch 12/30\n",
            "448/448 [==============================] - ETA: 0s - loss: 0.1038 - accuracy: 0.9576\n",
            "Epoch 12: val_loss improved from 0.08577 to 0.07887, saving model to checkpointCNN.h5\n",
            "448/448 [==============================] - 257s 573ms/step - loss: 0.1038 - accuracy: 0.9576 - val_loss: 0.0789 - val_accuracy: 0.9716 - lr: 0.0010\n",
            "Epoch 13/30\n",
            "448/448 [==============================] - ETA: 0s - loss: 0.1106 - accuracy: 0.9556\n",
            "Epoch 13: val_loss did not improve from 0.07887\n",
            "448/448 [==============================] - 256s 571ms/step - loss: 0.1106 - accuracy: 0.9556 - val_loss: 0.1216 - val_accuracy: 0.9442 - lr: 0.0010\n",
            "Epoch 14/30\n",
            "448/448 [==============================] - ETA: 0s - loss: 0.0881 - accuracy: 0.9640\n",
            "Epoch 14: val_loss did not improve from 0.07887\n",
            "448/448 [==============================] - 256s 571ms/step - loss: 0.0881 - accuracy: 0.9640 - val_loss: 0.0795 - val_accuracy: 0.9667 - lr: 0.0010\n",
            "Epoch 15/30\n",
            "448/448 [==============================] - ETA: 0s - loss: 0.0851 - accuracy: 0.9685\n",
            "Epoch 15: val_loss did not improve from 0.07887\n",
            "448/448 [==============================] - 256s 571ms/step - loss: 0.0851 - accuracy: 0.9685 - val_loss: 0.0933 - val_accuracy: 0.9638 - lr: 0.0010\n",
            "Epoch 16/30\n",
            "448/448 [==============================] - ETA: 0s - loss: 0.0803 - accuracy: 0.9706\n",
            "Epoch 16: val_loss improved from 0.07887 to 0.07237, saving model to checkpointCNN.h5\n",
            "448/448 [==============================] - 257s 573ms/step - loss: 0.0803 - accuracy: 0.9706 - val_loss: 0.0724 - val_accuracy: 0.9706 - lr: 0.0010\n",
            "Epoch 17/30\n",
            "448/448 [==============================] - ETA: 0s - loss: 0.0687 - accuracy: 0.9731\n",
            "Epoch 17: val_loss improved from 0.07237 to 0.05643, saving model to checkpointCNN.h5\n",
            "448/448 [==============================] - 257s 574ms/step - loss: 0.0687 - accuracy: 0.9731 - val_loss: 0.0564 - val_accuracy: 0.9824 - lr: 0.0010\n",
            "Epoch 18/30\n",
            "448/448 [==============================] - ETA: 0s - loss: 0.0761 - accuracy: 0.9696\n",
            "Epoch 18: val_loss did not improve from 0.05643\n",
            "448/448 [==============================] - 257s 572ms/step - loss: 0.0761 - accuracy: 0.9696 - val_loss: 0.0745 - val_accuracy: 0.9687 - lr: 0.0010\n",
            "Epoch 19/30\n",
            "448/448 [==============================] - ETA: 0s - loss: 0.0666 - accuracy: 0.9745\n",
            "Epoch 19: val_loss did not improve from 0.05643\n",
            "448/448 [==============================] - 256s 572ms/step - loss: 0.0666 - accuracy: 0.9745 - val_loss: 0.0588 - val_accuracy: 0.9785 - lr: 0.0010\n",
            "Epoch 20/30\n",
            "448/448 [==============================] - ETA: 0s - loss: 0.0610 - accuracy: 0.9754\n",
            "Epoch 20: val_loss did not improve from 0.05643\n",
            "448/448 [==============================] - 256s 572ms/step - loss: 0.0610 - accuracy: 0.9754 - val_loss: 0.0616 - val_accuracy: 0.9785 - lr: 0.0010\n",
            "Epoch 21/30\n",
            "448/448 [==============================] - ETA: 0s - loss: 0.0639 - accuracy: 0.9735\n",
            "Epoch 21: val_loss improved from 0.05643 to 0.04896, saving model to checkpointCNN.h5\n",
            "448/448 [==============================] - 257s 574ms/step - loss: 0.0639 - accuracy: 0.9735 - val_loss: 0.0490 - val_accuracy: 0.9834 - lr: 0.0010\n",
            "Epoch 22/30\n",
            "448/448 [==============================] - ETA: 0s - loss: 0.0490 - accuracy: 0.9789\n",
            "Epoch 22: val_loss did not improve from 0.04896\n",
            "448/448 [==============================] - 257s 572ms/step - loss: 0.0490 - accuracy: 0.9789 - val_loss: 0.0505 - val_accuracy: 0.9824 - lr: 0.0010\n",
            "Epoch 23/30\n",
            "448/448 [==============================] - ETA: 0s - loss: 0.0465 - accuracy: 0.9830\n",
            "Epoch 23: val_loss did not improve from 0.04896\n",
            "448/448 [==============================] - 256s 572ms/step - loss: 0.0465 - accuracy: 0.9830 - val_loss: 0.1183 - val_accuracy: 0.9511 - lr: 0.0010\n",
            "Epoch 24/30\n",
            "448/448 [==============================] - ETA: 0s - loss: 0.0646 - accuracy: 0.9749\n",
            "Epoch 24: val_loss improved from 0.04896 to 0.04376, saving model to checkpointCNN.h5\n",
            "448/448 [==============================] - 261s 582ms/step - loss: 0.0646 - accuracy: 0.9749 - val_loss: 0.0438 - val_accuracy: 0.9824 - lr: 0.0010\n",
            "Epoch 25/30\n",
            "448/448 [==============================] - ETA: 0s - loss: 0.0440 - accuracy: 0.9851\n",
            "Epoch 25: val_loss did not improve from 0.04376\n",
            "448/448 [==============================] - 257s 572ms/step - loss: 0.0440 - accuracy: 0.9851 - val_loss: 0.0621 - val_accuracy: 0.9765 - lr: 0.0010\n",
            "Epoch 26/30\n",
            "448/448 [==============================] - ETA: 0s - loss: 0.0453 - accuracy: 0.9835\n",
            "Epoch 26: val_loss improved from 0.04376 to 0.03739, saving model to checkpointCNN.h5\n",
            "448/448 [==============================] - 257s 573ms/step - loss: 0.0453 - accuracy: 0.9835 - val_loss: 0.0374 - val_accuracy: 0.9853 - lr: 0.0010\n",
            "Epoch 27/30\n",
            "448/448 [==============================] - ETA: 0s - loss: 0.0338 - accuracy: 0.9859\n",
            "Epoch 27: val_loss did not improve from 0.03739\n",
            "448/448 [==============================] - 256s 572ms/step - loss: 0.0338 - accuracy: 0.9859 - val_loss: 0.0452 - val_accuracy: 0.9834 - lr: 0.0010\n",
            "Epoch 28/30\n",
            "448/448 [==============================] - ETA: 0s - loss: 0.0369 - accuracy: 0.9859\n",
            "Epoch 28: val_loss did not improve from 0.03739\n",
            "448/448 [==============================] - 256s 572ms/step - loss: 0.0369 - accuracy: 0.9859 - val_loss: 0.0500 - val_accuracy: 0.9834 - lr: 0.0010\n",
            "Epoch 29/30\n",
            "448/448 [==============================] - ETA: 0s - loss: 0.0439 - accuracy: 0.9835\n",
            "Epoch 29: val_loss did not improve from 0.03739\n",
            "448/448 [==============================] - 256s 572ms/step - loss: 0.0439 - accuracy: 0.9835 - val_loss: 0.0644 - val_accuracy: 0.9804 - lr: 0.0010\n",
            "Epoch 30/30\n",
            "448/448 [==============================] - ETA: 0s - loss: 0.0363 - accuracy: 0.9874\n",
            "Epoch 30: ReduceLROnPlateau reducing learning rate to 0.00010000000474974513.\n",
            "\n",
            "Epoch 30: val_loss did not improve from 0.03739\n",
            "448/448 [==============================] - 256s 572ms/step - loss: 0.0363 - accuracy: 0.9874 - val_loss: 0.0564 - val_accuracy: 0.9795 - lr: 0.0010\n"
          ]
        }
      ]
    },
    {
      "cell_type": "code",
      "source": [
        "pd.DataFrame(model.history.history).plot()"
      ],
      "metadata": {
        "colab": {
          "base_uri": "https://localhost:8080/",
          "height": 282
        },
        "id": "_1pVQUYaah9-",
        "outputId": "c7b9d68c-60bd-4151-93a5-08857340aa6f"
      },
      "execution_count": null,
      "outputs": [
        {
          "output_type": "execute_result",
          "data": {
            "text/plain": [
              "<matplotlib.axes._subplots.AxesSubplot at 0x7f11723cd750>"
            ]
          },
          "metadata": {},
          "execution_count": 17
        },
        {
          "output_type": "display_data",
          "data": {
            "text/plain": [
              "<Figure size 432x288 with 1 Axes>"
            ],
            "image/png": "[encoded data removed]"
          },
          "metadata": {
            "needs_background": "light"
          }
        }
      ]
    },
    {
      "cell_type": "code",
      "source": [
        "test_accu = model.evaluate(test)\n",
        "print('The testing accuracy is :',test_accu[1]*100, '%')\n",
        "preds = model.predict(test,verbose=1)"
      ],
      "metadata": {
        "colab": {
          "base_uri": "https://localhost:8080/"
        },
        "id": "mnzu-RAnajdw",
        "outputId": "277dd051-fd45-4918-f59b-7f6773874f41"
      },
      "execution_count": null,
      "outputs": [
        {
          "output_type": "stream",
          "name": "stdout",
          "text": [
            "129/129 [==============================] - 26s 197ms/step - loss: 0.0412 - accuracy: 0.9873\n",
            "The testing accuracy is : 98.73232841491699 %\n",
            "129/129 [==============================] - 24s 184ms/step\n"
          ]
        }
      ]
    },
    {
      "cell_type": "code",
      "source": [
        "from keras.models import load_model  \n",
        "model = load_model('checkpointCNN.h5')\n",
        "test_accu = model.evaluate(test)\n",
        "print('The testing accuracy is :',test_accu[1]*100, '%')"
      ],
      "metadata": {
        "colab": {
          "base_uri": "https://localhost:8080/"
        },
        "id": "J2rKnREwamzl",
        "outputId": "82eeb42b-2d35-4c33-fffe-97c8b371aeb4"
      },
      "execution_count": null,
      "outputs": [
        {
          "output_type": "stream",
          "name": "stdout",
          "text": [
            "129/129 [==============================] - 25s 189ms/step - loss: 0.0451 - accuracy: 0.9868\n",
            "The testing accuracy is : 98.68357181549072 %\n"
          ]
        }
      ]
    },
    {
      "cell_type": "code",
      "source": [
        "import numpy as np\n",
        "rounded_labels=np.argmax(preds, axis=1)\n",
        "rounded_labels[1]"
      ],
      "metadata": {
        "colab": {
          "base_uri": "https://localhost:8080/"
        },
        "id": "iDO_e36SaoNX",
        "outputId": "20171419-0ed2-484e-96a7-29c039ba284c"
      },
      "execution_count": null,
      "outputs": [
        {
          "output_type": "execute_result",
          "data": {
            "text/plain": [
              "0"
            ]
          },
          "metadata": {},
          "execution_count": 19
        }
      ]
    },
    {
      "cell_type": "code",
      "source": [
        "from sklearn.metrics import confusion_matrix\n",
        "cmm = confusion_matrix(rounded_labels, test.classes)\n",
        "cmm"
      ],
      "metadata": {
        "colab": {
          "base_uri": "https://localhost:8080/"
        },
        "id": "l2yJe5ukaqSg",
        "outputId": "7198e316-b346-4188-ea9d-cfc19f1ca7ab"
      },
      "execution_count": null,
      "outputs": [
        {
          "output_type": "execute_result",
          "data": {
            "text/plain": [
              "array([[1025,   10,    0],\n",
              "       [  16,  475,    0],\n",
              "       [   0,    0,  525]])"
            ]
          },
          "metadata": {},
          "execution_count": 20
        }
      ]
    },
    {
      "cell_type": "code",
      "source": [
        "from sklearn.metrics import classification_report,confusion_matrix\n",
        "cm = pd.DataFrame(data=confusion_matrix(test.classes, rounded_labels, labels=[0, 1, 2]),index=[\"Actual Normal\", \"Actual Covid-19\", \"Actual CAP\"],\n",
        "columns=[\"Predicted Normal\", \"Predicted Covid\", \"Predicted CAP\"])\n",
        "import seaborn as sns\n",
        "sns.heatmap(cm,annot=True,fmt=\"d\")"
      ],
      "metadata": {
        "colab": {
          "base_uri": "https://localhost:8080/",
          "height": 282
        },
        "id": "IEvxPvJlasJO",
        "outputId": "f9bfb0c5-89b2-4e70-e778-6ef1108681ff"
      },
      "execution_count": null,
      "outputs": [
        {
          "output_type": "execute_result",
          "data": {
            "text/plain": [
              "<matplotlib.axes._subplots.AxesSubplot at 0x7f11ec685310>"
            ]
          },
          "metadata": {},
          "execution_count": 23
        },
        {
          "output_type": "display_data",
          "data": {
            "text/plain": [
              "<Figure size 432x288 with 2 Axes>"
            ],
            "image/png": "[encoded data removed]"
          },
          "metadata": {
            "needs_background": "light"
          }
        }
      ]
    },
    {
      "cell_type": "code",
      "source": [
        "print(classification_report(y_true=test.classes,y_pred=rounded_labels,target_names =['Covid-19','NORMAL','PNEUMONIA']))"
      ],
      "metadata": {
        "colab": {
          "base_uri": "https://localhost:8080/"
        },
        "id": "HEUG2OGkh6oI",
        "outputId": "59dee18a-3d48-4892-8768-9cad4546e40d"
      },
      "execution_count": null,
      "outputs": [
        {
          "output_type": "stream",
          "name": "stdout",
          "text": [
            "              precision    recall  f1-score   support\n",
            "\n",
            "    Covid-19       0.99      0.98      0.99      1041\n",
            "      NORMAL       0.97      0.98      0.97       485\n",
            "   PNEUMONIA       1.00      1.00      1.00       525\n",
            "\n",
            "    accuracy                           0.99      2051\n",
            "   macro avg       0.99      0.99      0.99      2051\n",
            "weighted avg       0.99      0.99      0.99      2051\n",
            "\n"
          ]
        }
      ]
    }
  ]
}